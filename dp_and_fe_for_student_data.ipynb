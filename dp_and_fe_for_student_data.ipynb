{
  "nbformat": 4,
  "nbformat_minor": 0,
  "metadata": {
    "colab": {
      "provenance": []
    },
    "kernelspec": {
      "name": "python3",
      "display_name": "Python 3"
    },
    "language_info": {
      "name": "python"
    }
  },
  "cells": [
    {
      "cell_type": "code",
      "execution_count": null,
      "metadata": {
        "id": "lPA1qRuFx-vI"
      },
      "outputs": [],
      "source": [
        "import pandas as pd\n",
        "import numpy as np\n",
        "from datetime import datetime, timedelta\n",
        "import warnings\n",
        "warnings.filterwarnings('ignore')"
      ]
    },
    {
      "cell_type": "markdown",
      "source": [
        "#####สร้าง DataFrame หลัก ที่อ่านจากไฟล์ student.csv"
      ],
      "metadata": {
        "id": "tOwqfv-WwcXp"
      }
    },
    {
      "cell_type": "code",
      "source": [
        "#สร้าง DataFrame หลัก ที่อ่านจากไฟล์ student.csv\n",
        "df = pd.read_csv(\"./student.csv\")"
      ],
      "metadata": {
        "id": "byAUdhyEyTvW"
      },
      "execution_count": null,
      "outputs": []
    },
    {
      "cell_type": "markdown",
      "source": [
        "####ตรวจสอบว่าใน df มีค่า NaN อยู่กี่ช่องในแต่ละคอลัมน์"
      ],
      "metadata": {
        "id": "K5j2inmowmJY"
      }
    },
    {
      "cell_type": "code",
      "source": [
        "df.isnull().sum()"
      ],
      "metadata": {
        "id": "sPXr7-efwsqJ"
      },
      "execution_count": null,
      "outputs": []
    },
    {
      "cell_type": "markdown",
      "source": [
        "####สร้าง DataFrame ใหม่ ชื่อdropna โดยคัดลอกข้อมูลจาก df เพื่อสร้างตัวสำเนาไว้ใช้งานต่อโดยไม่ไปแก้ไข df เดิม"
      ],
      "metadata": {
        "id": "bpGxowkfw0Gv"
      }
    },
    {
      "cell_type": "code",
      "source": [
        "dropna = pd.DataFrame(df)"
      ],
      "metadata": {
        "id": "H5G_EgnZyVz7"
      },
      "execution_count": null,
      "outputs": []
    },
    {
      "cell_type": "markdown",
      "source": [
        "######แสดงข้อมูลก่อนลบ จะเห็นว่าข้อมูลที่ 10 อายุ เพศ คณะ ส่วนสูง ชั่วโมงเรียน จะเป็นค่า NaN จะใช้ ฟังก์ชั่น Dropna ลบแถวทั้งหมดที่มีค่า NaN ออกจาก DataFrame"
      ],
      "metadata": {
        "id": "yhp9WQc4w8e2"
      }
    },
    {
      "cell_type": "code",
      "source": [
        "print(\"ก่อนลบ\")\n",
        "dropna"
      ],
      "metadata": {
        "id": "Fk5xAaapxBJP"
      },
      "execution_count": null,
      "outputs": []
    },
    {
      "cell_type": "markdown",
      "source": [
        "## ลบแถวที่มีค่าหาย"
      ],
      "metadata": {
        "id": "z5ls51mPubfX"
      }
    },
    {
      "cell_type": "markdown",
      "source": [
        "#####คืนค่า DataFrame ใหม่ ที่ลบทุกแถวที่มี NaN อยู่"
      ],
      "metadata": {
        "id": "m3_n5Ve2xQn6"
      }
    },
    {
      "cell_type": "code",
      "source": [
        "df_clean = df.dropna()"
      ],
      "metadata": {
        "id": "738-2g19yk3x"
      },
      "execution_count": null,
      "outputs": []
    },
    {
      "cell_type": "markdown",
      "source": [
        "#####นับจำนวน NaN ว่ายังมีอยู่อีกหรือไม่"
      ],
      "metadata": {
        "id": "LmtOUyxcxTSp"
      }
    },
    {
      "cell_type": "code",
      "source": [
        "df_clean.isnull().sum()"
      ],
      "metadata": {
        "id": "kCLBUPyaxalk"
      },
      "execution_count": null,
      "outputs": []
    },
    {
      "cell_type": "markdown",
      "source": [
        "####สร้างตัวแปรมาชี้ไปที่ df"
      ],
      "metadata": {
        "id": "Q88zGz9UxgxW"
      }
    },
    {
      "cell_type": "code",
      "source": [
        "df"
      ],
      "metadata": {
        "id": "SY4LKpzJyos5"
      },
      "execution_count": null,
      "outputs": []
    },
    {
      "cell_type": "markdown",
      "source": [
        "####ข้อมูลก่อนแก้ไข"
      ],
      "metadata": {
        "id": "wxVJGXXZxk9w"
      }
    },
    {
      "cell_type": "code",
      "source": [
        "df.isnull().sum()"
      ],
      "metadata": {
        "id": "VzRBGfePxrmV"
      },
      "execution_count": null,
      "outputs": []
    },
    {
      "cell_type": "markdown",
      "source": [
        "##เติมค่าด้วยค่าเฉลี่ย"
      ],
      "metadata": {
        "id": "LCjRzbivul9I"
      }
    },
    {
      "cell_type": "markdown",
      "source": [
        "#####คำนวณค่าเฉลี่ยของคอลัมน์ 'อายุ''เกรดเฉลี่ย' 'ส่วนสูง' 'นํ้าหนัก' 'จำนวนชั่วโมงเรียน' โดยไม่นับรวมค่า NaN"
      ],
      "metadata": {
        "id": "HQpQav-0ytBD"
      }
    },
    {
      "cell_type": "code",
      "source": [
        "mean_age = df['อายุ'].mean()\n",
        "mean_gpa = df['GPA'].mean()\n",
        "mean_height = df['ส่วนสูง_cm'].mean()\n",
        "mean_weight = df['น้ำหนัก_kg'].mean()\n",
        "mean_hours=df['ชั่วโมงเรียน_ต่อสัปดาห์'].mean()"
      ],
      "metadata": {
        "id": "PQa7E_PUyrIi"
      },
      "execution_count": null,
      "outputs": []
    },
    {
      "cell_type": "markdown",
      "source": [
        "####แทนค่าที่ขาดหาย (NaN) ในแต่ละคอลัมน์ด้วยค่าเฉลี่ยของคอลัมน์นั้น และแก้ไขข้อมูลใน DataFrame เดิมโดยตรง ไม่สร้าง DataFrame ใหม่"
      ],
      "metadata": {
        "id": "lrSgJG3oyxos"
      }
    },
    {
      "cell_type": "code",
      "source": [
        "df['อายุ'].fillna(mean_age, inplace=True)\n",
        "df['GPA'].fillna(mean_gpa, inplace=True)\n",
        "df['ส่วนสูง_cm'].fillna(mean_height, inplace=True)\n",
        "df['น้ำหนัก_kg'].fillna(mean_weight, inplace=True)\n",
        "df['ชั่วโมงเรียน_ต่อสัปดาห์'].fillna(mean_hours, inplace=True)\n",
        "df"
      ],
      "metadata": {
        "id": "cthQ6KdSy4Qk"
      },
      "execution_count": null,
      "outputs": []
    },
    {
      "cell_type": "markdown",
      "source": [
        "##เติมค่าด้วยค่าที่พบบ่อยที่สุด"
      ],
      "metadata": {
        "id": "de1S5dDXuuvf"
      }
    },
    {
      "cell_type": "markdown",
      "source": [
        "#####เติมค่าที่ขาดหายในคอลัมน์ประเภทข้อความ ด้วยค่าที่พบบ่อยที่สุดของแต่ละคอลัมน์"
      ],
      "metadata": {
        "id": "KqkkfXhTy-_a"
      }
    },
    {
      "cell_type": "code",
      "source": [
        "df['คณะ'].fillna(df['คณะ'].mode()[0], inplace=True)\n",
        "df['เพศ'].fillna(df['เพศ'].mode()[0], inplace=True)\n",
        "df"
      ],
      "metadata": {
        "id": "zVyyD7sNOcVM"
      },
      "execution_count": null,
      "outputs": []
    },
    {
      "cell_type": "markdown",
      "source": [
        "##ทำให้ชื่อคณะ และเพศ เป็นมาตรฐานเดียวกัน"
      ],
      "metadata": {
        "id": "4oGM3CevlJzJ"
      }
    },
    {
      "cell_type": "markdown",
      "source": [
        "#####สร้างฟังก์ชันที่รับชื่อคณะเข้ามาแล้วแปลงเป็นชื่อมาตรฐาน"
      ],
      "metadata": {
        "id": "SvzahCNjzJYw"
      }
    },
    {
      "cell_type": "code",
      "source": [
        "def standardize_faculty(name):\n",
        "#ตรวจสอบว่าชื่อที่รับเข้ามาอยู่ใน list ของชื่อที่เป็นไปได้หรือไม่\n",
        "    if name in ['วิทยาศาสตร์', 'วิทย์', 'Science', 'Sci','คณะวิทยาศาสตร์']:\n",
        "        return 'วิทยาศาสตร์' #คืนค่าชื่อคณะที่เป็นมาตรฐาน\n",
        "    if name in ['วิศวกรรมศาสตร์','วิศวกรรม','วิศวฯ','วิศวะ','Engineering']:\n",
        "       return 'วิศวกรรมศาสตร์'\n",
        "    elif name in ['ศิลปศาสตร์', 'ศิลป์', 'Arts','Liberal Arts']:\n",
        "        return 'ศิลปศาสตร์'#คืนค่าชื่อคณะที่เป็นมาตรฐาน\n",
        "    else:\n",
        "        return name #ถ้าไม่ตรงกับเงื่อนไขใดๆ ให้คืนชื่อเดิม"
      ],
      "metadata": {
        "id": "FeF30SEhAllF"
      },
      "execution_count": null,
      "outputs": []
    },
    {
      "cell_type": "markdown",
      "source": [
        "#####สร้างฟังก์ชันที่รับเพศเข้ามาแล้วแปลงเป็นชื่อมาตรฐาน"
      ],
      "metadata": {
        "id": "EtPHtgVpzOkP"
      }
    },
    {
      "cell_type": "code",
      "source": [
        "def standardize_gender(name):\n",
        "#ตรวจสอบว่าเพศที่รับเข้ามาอยู่ใน list ของชื่อที่เป็นไปได้หรือไม่\n",
        "    if name in ['ชาย','Male','M','ช']:\n",
        "      return 'ชาย' #คืนค่าที่เป็นมาตรฐาน\n",
        "    elif name in ['หญิง','Female','F','ญ']:\n",
        "      return 'หญิง' #คืนค่าที่เป็นมาตรฐาน\n",
        "    else:\n",
        "      return name #ถ้าไม่ตรงกับเงื่อนไขใดๆ ให้คืนค่าเดิม"
      ],
      "metadata": {
        "id": "camP4ruzzYJN"
      },
      "execution_count": null,
      "outputs": []
    },
    {
      "cell_type": "markdown",
      "source": [
        "#####ใช้ฟังก์ชันกับทุกค่าในคอลัมน์ 'คณะ' และสร้างคอลัมน์ใหม่ที่เก็บชื่อคณะที่เป็นมาตรฐานแล้ว"
      ],
      "metadata": {
        "id": "eSIECj2UzddH"
      }
    },
    {
      "cell_type": "code",
      "source": [
        "df['คณะ'] = df['คณะ'].apply(standardize_faculty)"
      ],
      "metadata": {
        "id": "9i8sQQk6znBB"
      },
      "execution_count": null,
      "outputs": []
    },
    {
      "cell_type": "markdown",
      "source": [
        "#####ใช้ฟังก์ชันกับทุกค่าในคอลัมน์ 'เพศ' และสร้างคอลัมน์ใหม่ที่เก็บค่าเพศที่เป็นมาตรฐานแล้ว"
      ],
      "metadata": {
        "id": "_UN2QK88zzP7"
      }
    },
    {
      "cell_type": "code",
      "source": [
        "df['เพศ'] = df['เพศ'].apply(standardize_gender)\n",
        "df"
      ],
      "metadata": {
        "id": "h0yNavoozwII"
      },
      "execution_count": null,
      "outputs": []
    },
    {
      "cell_type": "markdown",
      "source": [
        "##การจัดการค่าผิดปกติ"
      ],
      "metadata": {
        "id": "nErJBSZenid2"
      }
    },
    {
      "cell_type": "markdown",
      "source": [
        "#####อายุ"
      ],
      "metadata": {
        "id": "w6S0ygvz0XHf"
      }
    },
    {
      "cell_type": "code",
      "source": [
        "Q1_Age = df['อายุ'].quantile(0.25) #หา ควอไทล์ที่ 1 (Q1) ของข้อมูลอายุ หรือค่าที่อยู่ที่ 25% ของข้อมูลเมื่อเรียงจากน้อยไปมาก\n",
        "Q3_Age = df['อายุ'].quantile(0.75) #หา ควอไทล์ที่ 3 (Q3) ของข้อมูลอายุ หรือค่าที่อยู่ที่ 75% ของข้อมูลเมื่อเรียงจากน้อยไปมาก\n",
        "IQR_Age = Q3_Age - Q1_Age # Interquartile Range คือช่วงระหว่าง Q1 และ Q3 บอกถึงการกระจายตัวของข้อมูลส่วนกลาง 50%"
      ],
      "metadata": {
        "id": "JN5uicqOGlE-"
      },
      "execution_count": null,
      "outputs": []
    },
    {
      "cell_type": "markdown",
      "source": [
        "#####ขอบเขตของ อายุ"
      ],
      "metadata": {
        "id": "AJ4bevgv0SY5"
      }
    },
    {
      "cell_type": "code",
      "source": [
        "lower_bound_age = Q1_Age - 1.5 * IQR_Age  #กำหนดค่าต่ำสุด (lower_bound_age) และค่าสูงสุด (upper_bound_age) ตามสูตร IQR เพื่อใช้ระบุค่าอายุที่นอกขอบเขต (outliers)\n",
        "upper_bound_age = Q3_Age + 1.5 * IQR_Age\n",
        "print(lower_bound_age,upper_bound_age)"
      ],
      "metadata": {
        "id": "aDXF9ysX0Fj_"
      },
      "execution_count": null,
      "outputs": []
    },
    {
      "cell_type": "markdown",
      "source": [
        "#####เก็บแถวที่ค่า 'อายุ' อยู่ในช่วง [lower_bound_age, upper_bound_age] เท่านั้น ตัด outlier ออก"
      ],
      "metadata": {
        "id": "ayU4K5YW0MIi"
      }
    },
    {
      "cell_type": "code",
      "source": [
        "df = df[(df['อายุ'] >= lower_bound_age) & (df['อายุ'] <= upper_bound_age) & (df['GPA'] >= 0) & (df['GPA'] <= 4)]\n",
        "df"
      ],
      "metadata": {
        "id": "Px8oZMZZRO4k"
      },
      "execution_count": null,
      "outputs": []
    },
    {
      "cell_type": "markdown",
      "source": [
        "#####ตรวจสอบว่าใน df ยังมีค่า NaN เหลืออยู่กี่ช่องในแต่ละคอลัมน์"
      ],
      "metadata": {
        "id": "NXllwARB0bLO"
      }
    },
    {
      "cell_type": "code",
      "source": [
        "df.isnull().sum()"
      ],
      "metadata": {
        "id": "ZhaAuvOvRqcp"
      },
      "execution_count": null,
      "outputs": []
    },
    {
      "cell_type": "markdown",
      "source": [
        "##คำนวณBMI"
      ],
      "metadata": {
        "id": "UDXHXmUNsuF_"
      }
    },
    {
      "cell_type": "markdown",
      "source": [
        "###### แปลงส่วนสูงจากเซนติเมตรเป็นเมตร (เพราะสูตร BMI ใช้หน่วยเมตร)"
      ],
      "metadata": {
        "id": "6fnA5dyU0gzI"
      }
    },
    {
      "cell_type": "code",
      "source": [
        "df['BMI'] = df['น้ำหนัก_kg'] / (df['ส่วนสูง_cm']/100)**2\n",
        "df['สุขภาพ'] = pd.cut(df['BMI'], #แบ่งค่า BMI เป็นช่วงตามเกณฑ์มาตรฐาน\n",
        "                                   bins=[0, 18.5, 25, 30, 100],\n",
        "                                   labels=['ผอม', 'ปกติ', 'อ้วน', 'อ้วนมาก'])\n",
        "\n",
        "df"
      ],
      "metadata": {
        "id": "OOVTtLFXRbt-"
      },
      "execution_count": null,
      "outputs": []
    }
  ]
}